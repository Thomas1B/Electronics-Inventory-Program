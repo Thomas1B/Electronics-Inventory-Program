{
 "cells": [
  {
   "cell_type": "code",
   "execution_count": 1,
   "metadata": {},
   "outputs": [],
   "source": [
    "import pandas as pd\n",
    "import os"
   ]
  },
  {
   "cell_type": "code",
   "execution_count": 2,
   "metadata": {},
   "outputs": [],
   "source": [
    "labels = ['Part Number', 'Manufacturer Part Number',\n",
    "          'Description', 'Customer Reference', 'Unit Price', 'Quantity']"
   ]
  },
  {
   "cell_type": "code",
   "execution_count": 3,
   "metadata": {},
   "outputs": [],
   "source": [
    "downloads_path = os.path.expanduser(\"~\" + os.sep + \"Downloads\")\n",
    "data = []\n",
    "for file in os.listdir(downloads_path):\n",
    "    if file.split('.')[-1] == 'csv':\n",
    "        order = pd.read_csv(f'{downloads_path}/{file}')[labels]\n",
    "        order.drop(order.index[-1], axis=0, inplace=True)\n",
    "        data.append(\n",
    "            order\n",
    "        )\n",
    "items = pd.concat(data).reset_index(drop=True).drop_duplicates()\n"
   ]
  },
  {
   "cell_type": "code",
   "execution_count": 4,
   "metadata": {},
   "outputs": [],
   "source": [
    "# items.to_csv(f'{downloads_path}/combined.csv',index=False)"
   ]
  },
  {
   "cell_type": "code",
   "execution_count": 5,
   "metadata": {},
   "outputs": [],
   "source": [
    "# for index, row in items.iterrows():\n",
    "#     print(row['Description'])"
   ]
  },
  {
   "cell_type": "code",
   "execution_count": 6,
   "metadata": {},
   "outputs": [
    {
     "data": {
      "text/plain": [
       "['meow']"
      ]
     },
     "execution_count": 6,
     "metadata": {},
     "output_type": "execute_result"
    }
   ],
   "source": [
    "'meow'.split(' ')"
   ]
  },
  {
   "cell_type": "code",
   "execution_count": 39,
   "metadata": {},
   "outputs": [
    {
     "data": {
      "text/plain": [
       "array(['1738-1038-ND', '296-1414-5-ND', '296-43515-5-ND', '296-NE555P-ND',\n",
       "       '311-9.76KCRCT-ND', '399-C0805C103K1RAC7800CT-ND',\n",
       "       '399-C0805C104K5RAC7800CT-ND', '788-1091-ND', 'PCB-RULER-ND',\n",
       "       'SB5100DICT-ND'], dtype=object)"
      ]
     },
     "execution_count": 39,
     "metadata": {},
     "output_type": "execute_result"
    }
   ],
   "source": [
    "x = items.iloc[:10]['Part Number'].to_numpy()\n",
    "x"
   ]
  },
  {
   "cell_type": "code",
   "execution_count": 40,
   "metadata": {},
   "outputs": [
    {
     "data": {
      "text/plain": [
       "array(['SB5100DICT-ND', 'PCB-RULER-ND', '788-1091-ND',\n",
       "       '399-C0805C104K5RAC7800CT-ND', '399-C0805C103K1RAC7800CT-ND',\n",
       "       '311-9.76KCRCT-ND', '296-NE555P-ND', '296-43515-5-ND',\n",
       "       '296-1414-5-ND', '1738-1038-ND'], dtype=object)"
      ]
     },
     "execution_count": 40,
     "metadata": {},
     "output_type": "execute_result"
    }
   ],
   "source": [
    "x[::-1]"
   ]
  },
  {
   "cell_type": "code",
   "execution_count": 9,
   "metadata": {},
   "outputs": [],
   "source": [
    "from tkinter import Tk\n",
    "\n",
    "def get_device_window_size() -> tuple:\n",
    "    '''\n",
    "    Function to get the device window size in pixels.\n",
    "\n",
    "        Parameters:\n",
    "            None\n",
    "        \n",
    "        Returns:\n",
    "            tuple: width, height in pixels.\n",
    "    '''\n",
    "    root = Tk()\n",
    "    width = root.winfo_screenwidth()\n",
    "    height = root.winfo_screenheight()\n",
    "    return width, height\n",
    "\n"
   ]
  },
  {
   "cell_type": "code",
   "execution_count": 8,
   "metadata": {},
   "outputs": [
    {
     "name": "stdout",
     "output_type": "stream",
     "text": [
      "<class 'tuple'>\n",
      "Window width: 1504\n",
      "Window height: 1003\n"
     ]
    }
   ],
   "source": [
    "x = get_window_size()\n",
    "print(type(x))\n",
    "window_width, window_height = x\n",
    "print(\"Window width:\", window_width)\n",
    "print(\"Window height:\", window_height)\n"
   ]
  },
  {
   "cell_type": "code",
   "execution_count": null,
   "metadata": {},
   "outputs": [],
   "source": []
  }
 ],
 "metadata": {
  "kernelspec": {
   "display_name": "Python 3",
   "language": "python",
   "name": "python3"
  },
  "language_info": {
   "codemirror_mode": {
    "name": "ipython",
    "version": 3
   },
   "file_extension": ".py",
   "mimetype": "text/x-python",
   "name": "python",
   "nbconvert_exporter": "python",
   "pygments_lexer": "ipython3",
   "version": "3.11.1"
  },
  "orig_nbformat": 4
 },
 "nbformat": 4,
 "nbformat_minor": 2
}
